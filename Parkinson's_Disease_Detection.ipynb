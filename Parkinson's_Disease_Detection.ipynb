{
  "nbformat": 4,
  "nbformat_minor": 0,
  "metadata": {
    "colab": {
      "provenance": [],
      "gpuType": "T4",
      "include_colab_link": true
    },
    "kernelspec": {
      "name": "python3",
      "display_name": "Python 3"
    },
    "language_info": {
      "name": "python"
    }
  },
  "cells": [
    {
      "cell_type": "markdown",
      "metadata": {
        "id": "view-in-github",
        "colab_type": "text"
      },
      "source": [
        "<a href=\"https://colab.research.google.com/github/Siri-1416/Sample/blob/master/Parkinson's_Disease_Detection.ipynb\" target=\"_parent\"><img src=\"https://colab.research.google.com/assets/colab-badge.svg\" alt=\"Open In Colab\"/></a>"
      ]
    },
    {
      "cell_type": "markdown",
      "metadata": {
        "id": "9B5Zl1UOBMAJ"
      },
      "source": [
        "#Importing the Libraries"
      ]
    },
    {
      "cell_type": "code",
      "metadata": {
        "id": "YOCpZ1Vm6cfW"
      },
      "source": [
        "import numpy as np\n",
        "import pandas as pd\n",
        "import matplotlib.pyplot as plt\n",
        "from sklearn.model_selection import train_test_split\n",
        "from sklearn.preprocessing import MinMaxScaler\n",
        "from sklearn import svm\n",
        "from sklearn.metrics import accuracy_score\n",
        "import warnings\n",
        "warnings.filterwarnings('ignore')\n",
        "import seaborn as sns"
      ],
      "execution_count": null,
      "outputs": []
    },
    {
      "cell_type": "code",
      "source": [
        "from keras.utils.np_utils import to_categorical\n",
        "from keras.models import Sequential\n",
        "from keras.layers import Dense,Conv1D, MaxPooling1D, Flatten, Dense\n",
        "from keras.preprocessing.image import ImageDataGenerator\n",
        "from tensorflow.keras.optimizers import Adam\n",
        "from sklearn.model_selection import train_test_split"
      ],
      "metadata": {
        "id": "U0V0z9IzVYDg"
      },
      "execution_count": null,
      "outputs": []
    },
    {
      "cell_type": "markdown",
      "metadata": {
        "id": "PZm-USrtB_q4"
      },
      "source": [
        "#Data Collection & Analysis"
      ]
    },
    {
      "cell_type": "code",
      "source": [
        "from google.colab import drive\n",
        "drive.mount('/content/drive')"
      ],
      "metadata": {
        "colab": {
          "base_uri": "https://localhost:8080/"
        },
        "id": "KiAAs0Rr0L_7",
        "outputId": "35f5ef03-bf8c-4050-edf7-6caae379a546"
      },
      "execution_count": null,
      "outputs": [
        {
          "output_type": "stream",
          "name": "stdout",
          "text": [
            "Mounted at /content/drive\n"
          ]
        }
      ]
    },
    {
      "cell_type": "code",
      "metadata": {
        "id": "5YC2lGuVBiZA"
      },
      "source": [
        "# loading the data from csv file to a Pandas DataFrame\n",
        "parkinsons_data = pd.read_csv('/content/drive/MyDrive/My project/parkinsons.csv')"
      ],
      "execution_count": null,
      "outputs": []
    },
    {
      "cell_type": "code",
      "metadata": {
        "id": "Iw8z6w60Djd2"
      },
      "source": [
        "# printing the first 5 rows of the dataframe\n",
        "parkinsons_data.head()"
      ],
      "execution_count": null,
      "outputs": []
    },
    {
      "cell_type": "code",
      "metadata": {
        "id": "cK7L_o2TDuZb"
      },
      "source": [
        "# number of rows and columns in the dataframe\n",
        "parkinsons_data.shape"
      ],
      "execution_count": null,
      "outputs": []
    },
    {
      "cell_type": "code",
      "metadata": {
        "id": "NLmzHIgnEGi4"
      },
      "source": [
        "# getting more information about the dataset\n",
        "parkinsons_data.info()"
      ],
      "execution_count": null,
      "outputs": []
    },
    {
      "cell_type": "code",
      "metadata": {
        "id": "70rgu_k4ET9F"
      },
      "source": [
        "# checking for missing values in each column\n",
        "parkinsons_data.isnull().sum()"
      ],
      "execution_count": null,
      "outputs": []
    },
    {
      "cell_type": "code",
      "metadata": {
        "id": "1AxFu0-nEhSA"
      },
      "source": [
        "# getting some statistical measures about the data\n",
        "parkinsons_data.describe()"
      ],
      "execution_count": null,
      "outputs": []
    },
    {
      "cell_type": "code",
      "metadata": {
        "id": "3O8AclzwExyH"
      },
      "source": [
        "# distribution of target Variable\n",
        "parkinsons_data['status'].value_counts()"
      ],
      "execution_count": null,
      "outputs": []
    },
    {
      "cell_type": "markdown",
      "metadata": {
        "id": "L1srlxtEFYfN"
      },
      "source": [
        "1  --> Parkinson's Positive\n",
        "\n",
        "0 --> Healthy\n"
      ]
    },
    {
      "cell_type": "code",
      "metadata": {
        "id": "zUrPan7CFTMq"
      },
      "source": [
        "\n",
        "# grouping the data based on the target variable\n",
        "parkinsons_data.groupby('status').mean()"
      ],
      "execution_count": null,
      "outputs": []
    },
    {
      "cell_type": "code",
      "source": [
        "parkinsons_data.corr()"
      ],
      "metadata": {
        "id": "qgWrzK6zmxpw"
      },
      "execution_count": null,
      "outputs": []
    },
    {
      "cell_type": "code",
      "source": [
        "sns.set(style=\"whitegrid\")\n",
        "plt.figure(figsize=(10,5))\n",
        "ax=sns.countplot(x=\"status\",data=parkinsons_data,palette=sns.color_palette(\"cubehelix\",4))\n",
        "plt.xticks(rotation=90)\n",
        "plt.title(\"Class Label Counts\",{\"fontname\":\"fantasy\",\"fontweight\":\"bold\",\"fontsize\":\"medium\"})\n",
        "plt.ylabel(\"count\", {\"fontname\":\"serif\",\"fontweight\":\"bold\"})\n",
        "plt.xlabel(\"Class\", {\"fontname\":\"serif\",\"fontweight\":\"bold\"})\n",
        "\n"
      ],
      "metadata": {
        "id": "_IhRhRkKnCfb"
      },
      "execution_count": null,
      "outputs": []
    },
    {
      "cell_type": "code",
      "source": [
        "fig = plt.figure(figsize =(10, 7))\n",
        "\n",
        "stat = parkinsons_data['status']\n",
        "\n",
        "x = [0, 1]\n",
        "l = ['0','1']\n",
        "c = ['blue', 'orange']\n",
        "\n",
        "#bar plot\n",
        "plt.bar(x, height = 1000, color = c, label = l)\n",
        "plt.grid(False)\n",
        "plt.xticks([0,1])\n",
        "plt.legend(loc=(1,0.5))\n",
        "\n",
        "plt.title('0 : not affected & 1 : affected')\n",
        "plt.show()\n",
        "\n",
        "print(' ')\n",
        "\n",
        "#pie chart\n",
        "plt.pie([1000,1000],labels=['not affected','affect'],autopct='%.2f%%')\n",
        "plt.legend(loc=(1,0.5))\n",
        "plt.title('0 : not affected & 1 : affect')\n",
        "plt.show()\n"
      ],
      "metadata": {
        "id": "nEsL-adGpANt"
      },
      "execution_count": null,
      "outputs": []
    },
    {
      "cell_type": "markdown",
      "source": [
        "#Data Preprocessing"
      ],
      "metadata": {
        "id": "CSHvYJj4uDoc"
      }
    },
    {
      "cell_type": "markdown",
      "metadata": {
        "id": "We7sRYu7Gc4q"
      },
      "source": [
        "##Separating the features & Target"
      ]
    },
    {
      "cell_type": "code",
      "metadata": {
        "id": "UAcz8jFnFuzH"
      },
      "source": [
        "X = parkinsons_data.drop(columns=['name','status'], axis=1)\n",
        "Y = parkinsons_data['status']"
      ],
      "execution_count": null,
      "outputs": []
    },
    {
      "cell_type": "code",
      "metadata": {
        "id": "guRof_8WG1Yn"
      },
      "source": [
        "X"
      ],
      "execution_count": null,
      "outputs": []
    },
    {
      "cell_type": "code",
      "metadata": {
        "id": "xSNrvkJoG3cY"
      },
      "source": [
        "print(Y)"
      ],
      "execution_count": null,
      "outputs": []
    },
    {
      "cell_type": "markdown",
      "metadata": {
        "id": "WDeqEaaHHBAS"
      },
      "source": [
        "##Splitting the data to training data & Test data\n",
        "\n"
      ]
    },
    {
      "cell_type": "code",
      "metadata": {
        "id": "4c6nrCiVG6NB"
      },
      "source": [
        "X_train, X_test, Y_train, Y_test = train_test_split(X, Y, test_size=0.2, random_state=2)"
      ],
      "execution_count": null,
      "outputs": []
    },
    {
      "cell_type": "code",
      "metadata": {
        "id": "6OqUka96H35c"
      },
      "source": [
        "print(X.shape, X_train.shape, X_test.shape)"
      ],
      "execution_count": null,
      "outputs": []
    },
    {
      "cell_type": "markdown",
      "metadata": {
        "id": "ACsXtFTGIFU-"
      },
      "source": [
        "##Data Standardization"
      ]
    },
    {
      "cell_type": "code",
      "metadata": {
        "id": "DbpeUHeUH-4A"
      },
      "source": [
        "scaler = MinMaxScaler()"
      ],
      "execution_count": null,
      "outputs": []
    },
    {
      "cell_type": "code",
      "metadata": {
        "id": "1FeONzpiInv5"
      },
      "source": [
        "X_train = scaler.fit_transform(X_train)\n",
        "\n",
        "X_test = scaler.transform(X_test)"
      ],
      "execution_count": null,
      "outputs": []
    },
    {
      "cell_type": "code",
      "metadata": {
        "id": "OS2_4yaVJAiH"
      },
      "source": [
        "print(X_train)"
      ],
      "execution_count": null,
      "outputs": []
    },
    {
      "cell_type": "markdown",
      "metadata": {
        "id": "QIOAtx35JUMg"
      },
      "source": [
        "#Model Training using Support Vector Machine Model"
      ]
    },
    {
      "cell_type": "markdown",
      "source": [
        "##Training model"
      ],
      "metadata": {
        "id": "UME-6LJnKusK"
      }
    },
    {
      "cell_type": "code",
      "metadata": {
        "id": "IDInA1u5JCZ9"
      },
      "source": [
        "model = svm.SVC(kernel='linear', random_state = 10 )"
      ],
      "execution_count": null,
      "outputs": []
    },
    {
      "cell_type": "code",
      "metadata": {
        "id": "F01DNpqWKmaW"
      },
      "source": [
        "# training the SVM model with training data\n",
        "model.fit(X_train, Y_train)"
      ],
      "execution_count": null,
      "outputs": []
    },
    {
      "cell_type": "code",
      "source": [
        "Y_pred = model.predict(X_test)"
      ],
      "metadata": {
        "id": "XMw10bIEIior"
      },
      "execution_count": null,
      "outputs": []
    },
    {
      "cell_type": "markdown",
      "metadata": {
        "id": "1z_-nZfuLJrH"
      },
      "source": [
        "##Model Evaluation"
      ]
    },
    {
      "cell_type": "markdown",
      "source": [
        "###Confusion Matrix"
      ],
      "metadata": {
        "id": "dFe5VNnTIQ3V"
      }
    },
    {
      "cell_type": "code",
      "source": [
        "from sklearn.metrics import confusion_matrix\n",
        "\n",
        "cf = confusion_matrix(Y_test, Y_pred )"
      ],
      "metadata": {
        "id": "-YC4I4EQIWE1"
      },
      "execution_count": null,
      "outputs": []
    },
    {
      "cell_type": "code",
      "source": [
        "cf"
      ],
      "metadata": {
        "id": "YHsTb1OaIq9g"
      },
      "execution_count": null,
      "outputs": []
    },
    {
      "cell_type": "code",
      "source": [
        "import seaborn as sns\n",
        "sns.heatmap(cf, annot=True)"
      ],
      "metadata": {
        "id": "zsuTJblHMEcj"
      },
      "execution_count": null,
      "outputs": []
    },
    {
      "cell_type": "markdown",
      "metadata": {
        "id": "Rj3XAnF8LMF4"
      },
      "source": [
        "###Accuracy Score"
      ]
    },
    {
      "cell_type": "code",
      "metadata": {
        "id": "5LwxNgnqK1Za"
      },
      "source": [
        "# accuracy score on training data\n",
        "X_train_prediction = model.predict(X_train)\n",
        "training_data_accuracy = accuracy_score(Y_train, X_train_prediction)"
      ],
      "execution_count": null,
      "outputs": []
    },
    {
      "cell_type": "code",
      "metadata": {
        "id": "-dS9tcGdLm41"
      },
      "source": [
        "print('Accuracy score of training data : ', training_data_accuracy)"
      ],
      "execution_count": null,
      "outputs": []
    },
    {
      "cell_type": "code",
      "metadata": {
        "id": "rNUO2uHmLtjY"
      },
      "source": [
        "# accuracy score on training data\n",
        "X_test_prediction = model.predict(X_test)\n",
        "test_data_accuracy = accuracy_score(Y_test, X_test_prediction)"
      ],
      "execution_count": null,
      "outputs": []
    },
    {
      "cell_type": "code",
      "metadata": {
        "id": "BsF3UnQ2L_aR"
      },
      "source": [
        "print('Accuracy score of test data : ', test_data_accuracy)"
      ],
      "execution_count": null,
      "outputs": []
    },
    {
      "cell_type": "markdown",
      "source": [
        "#Model Training using CNN"
      ],
      "metadata": {
        "id": "YYKSnq8oTgHR"
      }
    },
    {
      "cell_type": "markdown",
      "source": [
        "##Training model"
      ],
      "metadata": {
        "id": "w35T485j6FKO"
      }
    },
    {
      "cell_type": "code",
      "source": [
        "# Define the CNN model\n",
        "cnn_model = Sequential()\n",
        "cnn_model.add(Conv1D(64, 3, activation='relu', input_shape=(X_train.shape[1], 1)))\n",
        "cnn_model.add(MaxPooling1D(2))\n",
        "cnn_model.add(Conv1D(32, 3, activation='relu'))\n",
        "cnn_model.add(MaxPooling1D(2))\n",
        "cnn_model.add(Flatten())\n",
        "cnn_model.add(Dense(16, activation='relu'))\n",
        "cnn_model.add(Dense(1, activation='sigmoid'))\n",
        "\n",
        "# Compile the model\n",
        "cnn_model.compile(loss='binary_crossentropy', optimizer='adam', metrics=['accuracy'])"
      ],
      "metadata": {
        "id": "NyxWV7xP6FKO"
      },
      "execution_count": null,
      "outputs": []
    },
    {
      "cell_type": "code",
      "source": [
        "cnn_model.fit(X_train, Y_train, epochs=100, batch_size=16, verbose=0)"
      ],
      "metadata": {
        "id": "pAclObHn6FKP"
      },
      "execution_count": null,
      "outputs": []
    },
    {
      "cell_type": "code",
      "source": [
        "# Evaluate the model on the testing set\n",
        "loss, accuracy = cnn_model.evaluate(X_test, Y_test, verbose=0)\n",
        "print(f'Test loss: {loss:.4f}\\nTest accuracy: {accuracy:.4f}')"
      ],
      "metadata": {
        "id": "BFRO-qUk6FKQ"
      },
      "execution_count": null,
      "outputs": []
    },
    {
      "cell_type": "code",
      "source": [
        "from tensorflow.keras.utils import plot_model\n",
        "plot_model(cnn_model,\n",
        "           to_file=\"/content/drive/MyDrive/My project/model.png\",\n",
        "           show_shapes=True,\n",
        "           show_layer_names=True,\n",
        "          )"
      ],
      "metadata": {
        "id": "3n1XZ8BN6FKR"
      },
      "execution_count": null,
      "outputs": []
    },
    {
      "cell_type": "markdown",
      "metadata": {
        "id": "36OHBpHW6FKS"
      },
      "source": [
        "##Model Evaluation"
      ]
    },
    {
      "cell_type": "markdown",
      "source": [
        "###Confusion Matrix"
      ],
      "metadata": {
        "id": "W2cvL4no6FKS"
      }
    },
    {
      "cell_type": "code",
      "source": [
        "from sklearn.metrics import confusion_matrix\n",
        "y_pred_cnn = cnn_model.predict(X_test)\n",
        "cf_matrix_cnn = confusion_matrix(Y_test, y_pred_cnn.round())"
      ],
      "metadata": {
        "id": "ZqfwgXCO6FKS"
      },
      "execution_count": null,
      "outputs": []
    },
    {
      "cell_type": "code",
      "source": [
        "cf_matrix_cnn"
      ],
      "metadata": {
        "id": "yAtOlkTP6FKT"
      },
      "execution_count": null,
      "outputs": []
    },
    {
      "cell_type": "code",
      "source": [
        "import seaborn as sns\n",
        "sns.heatmap(cf_matrix_cnn, annot=True)"
      ],
      "metadata": {
        "id": "UcRlQ6h46FKT"
      },
      "execution_count": null,
      "outputs": []
    },
    {
      "cell_type": "markdown",
      "metadata": {
        "id": "0Ub_zEtq6FKU"
      },
      "source": [
        "###Accuracy Score"
      ]
    },
    {
      "cell_type": "code",
      "metadata": {
        "id": "4VoSmotu6FKU"
      },
      "source": [
        "from sklearn.metrics import classification_report as cr\n",
        "# accuracy score on training data\n",
        "print('The Testing accuracy is : ', accuracy_score(Y_test, y_pred_cnn.round()))\n",
        "print(cr(Y_test, y_pred_cnn.round()))\n"
      ],
      "execution_count": null,
      "outputs": []
    },
    {
      "cell_type": "markdown",
      "source": [
        "#Model Training using ANN"
      ],
      "metadata": {
        "id": "Xfii3k0UT_SP"
      }
    },
    {
      "cell_type": "markdown",
      "source": [
        "##Training model"
      ],
      "metadata": {
        "id": "Q0Ch7VcgXw-H"
      }
    },
    {
      "cell_type": "code",
      "source": [
        "# Define the ANN model\n",
        "classifier = Sequential()\n",
        "classifier.add(Dense(16, input_dim=X_train.shape[1], activation='relu'))\n",
        "classifier.add(Dense(8, activation='relu'))\n",
        "classifier.add(Dense(1, activation='sigmoid'))\n",
        "\n",
        "# Compile the model\n",
        "classifier.compile(loss='binary_crossentropy', optimizer='adam', metrics=['accuracy'])"
      ],
      "metadata": {
        "id": "c18OgKp8Ukhr"
      },
      "execution_count": null,
      "outputs": []
    },
    {
      "cell_type": "code",
      "source": [
        "classifier.fit(X_train, Y_train, epochs=100, batch_size=16, verbose=0)"
      ],
      "metadata": {
        "id": "rk2nLkgEw4sP"
      },
      "execution_count": null,
      "outputs": []
    },
    {
      "cell_type": "code",
      "source": [
        "# Evaluate the model on the testing set\n",
        "loss, accuracy = classifier.evaluate(X_test, Y_test, verbose=0)\n",
        "print(f'Test loss: {loss:.4f}\\nTest accuracy: {accuracy:.4f}')"
      ],
      "metadata": {
        "id": "QQXZnpAaxKvr"
      },
      "execution_count": null,
      "outputs": []
    },
    {
      "cell_type": "code",
      "source": [
        "from tensorflow.keras.utils import plot_model\n",
        "plot_model(classifier,\n",
        "           to_file=\"/content/drive/MyDrive/My project/model.png\",\n",
        "           show_shapes=True,\n",
        "           show_layer_names=True,\n",
        "          )"
      ],
      "metadata": {
        "id": "wXvxCTxpW5PE"
      },
      "execution_count": null,
      "outputs": []
    },
    {
      "cell_type": "markdown",
      "metadata": {
        "id": "UhbDfbKrYZj2"
      },
      "source": [
        "##Model Evaluation"
      ]
    },
    {
      "cell_type": "markdown",
      "source": [
        "###Confusion Matrix"
      ],
      "metadata": {
        "id": "JvaC664cYZj2"
      }
    },
    {
      "cell_type": "code",
      "source": [
        "from sklearn.metrics import confusion_matrix\n",
        "y_pred_ann = classifier.predict(X_test)\n",
        "cf_matrix_ann = confusion_matrix(Y_test, y_pred_ann.round())"
      ],
      "metadata": {
        "id": "OYeQwEWNYZj2"
      },
      "execution_count": null,
      "outputs": []
    },
    {
      "cell_type": "code",
      "source": [
        "cf_matrix_ann"
      ],
      "metadata": {
        "id": "3Wg6eFvrYZj2"
      },
      "execution_count": null,
      "outputs": []
    },
    {
      "cell_type": "code",
      "source": [
        "import seaborn as sns\n",
        "sns.heatmap(cf_matrix_ann, annot=True)"
      ],
      "metadata": {
        "id": "okTPtAtaYZj3"
      },
      "execution_count": null,
      "outputs": []
    },
    {
      "cell_type": "markdown",
      "metadata": {
        "id": "mJLnRU9mYZj3"
      },
      "source": [
        "###Accuracy Score"
      ]
    },
    {
      "cell_type": "code",
      "metadata": {
        "id": "FO8csUCqYZj3"
      },
      "source": [
        "from sklearn.metrics import classification_report as cr\n",
        "# accuracy score on training data\n",
        "print('The Testing accuracy is : ', accuracy_score(Y_test, y_pred_ann.round()))\n",
        "print(cr(Y_test, y_pred_ann.round()))\n"
      ],
      "execution_count": null,
      "outputs": []
    },
    {
      "cell_type": "markdown",
      "metadata": {
        "id": "QlR4JG4YMfOR"
      },
      "source": [
        "#Building a Predictive System"
      ]
    },
    {
      "cell_type": "markdown",
      "source": [
        "##Using Support Vector Machine"
      ],
      "metadata": {
        "id": "q0SEldosb14m"
      }
    },
    {
      "cell_type": "code",
      "metadata": {
        "id": "w0FjSoO1MGBU"
      },
      "source": [
        "input_data = (199.22800,209.51200,192.09100,0.00241,0.00001,0.00134,0.00138,0.00402,0.01015,0.08900,0.00504,0.00641,0.00762,0.01513,0.00167,30.94000,0.432439,0.742055,-7.682587,0.173319,2.103106,0.068501\n",
        ")\n",
        "# changing input data to a numpy array\n",
        "input_data_as_numpy_array = np.asarray(input_data)\n",
        "\n",
        "# reshape the numpy array\n",
        "input_data_reshaped = input_data_as_numpy_array.reshape(1,-1)\n",
        "\n",
        "# standardize the data\n",
        "std_data = scaler.transform(input_data_reshaped)\n",
        "\n",
        "prediction = model.predict(std_data)\n",
        "print(prediction)\n",
        "\n",
        "\n",
        "if (prediction[0] == 0).all():\n",
        "  print(\"The Person does not have Parkinsons Disease\")\n",
        "\n",
        "else:\n",
        "\n",
        "  print(\"The Person has Parkinsons\")\n"
      ],
      "execution_count": null,
      "outputs": []
    },
    {
      "cell_type": "markdown",
      "source": [
        "## Using Convolutional Neural Networks"
      ],
      "metadata": {
        "id": "wFp37gTy7imQ"
      }
    },
    {
      "cell_type": "code",
      "metadata": {
        "id": "XY8S2Rv-7imR"
      },
      "source": [
        "new_data = np.array([199.22800,209.51200,192.09100,0.00241,0.00001,0.00134,0.00138,0.00402,0.01015,0.08900,0.00504,0.00641,0.00762,0.01513,0.00167,30.94000,0.432439,0.742055,-7.682587,0.173319,2.103106,0.068501\n",
        "]).reshape(1, -1, 1)\n",
        "new_data = scaler.transform(new_data.reshape(new_data.shape[0], new_data.shape[1]))\n",
        "prediction = cnn_model.predict(new_data).round()\n",
        "print(f'Prediction: {prediction[0][0]:.4f}')\n",
        "\n",
        "if (prediction[0][0] == 0).all():\n",
        "  print(\"The Person does not have Parkinsons Disease\")\n",
        "\n",
        "else:\n",
        "  print(\"The Person has Parkinsons\")\n"
      ],
      "execution_count": null,
      "outputs": []
    },
    {
      "cell_type": "markdown",
      "source": [
        "##Using Advanced Neural Networks"
      ],
      "metadata": {
        "id": "R5pxJwP_emQ4"
      }
    },
    {
      "cell_type": "code",
      "source": [
        "new_data = np.array([199.22800,209.51200,192.09100,0.00241,0.00001,0.00134,0.00138,0.00402,0.01015,0.08900,0.00504,0.00641,0.00762,0.01513,0.00167,30.94000,0.432439,0.742055,-7.682587,0.173319,2.103106,0.068501\n",
        "]).reshape(1, -1)\n",
        "new_data = scaler.transform(new_data)\n",
        "prediction = classifier.predict(new_data).round()\n",
        "print(f'Prediction: {prediction[0][0]:.4f}')\n",
        "\n",
        "if (prediction[0][0] == 0).all():\n",
        "  print(\"The Person does not have Parkinsons Disease\")\n",
        "\n",
        "else:\n",
        "  print(\"The Person has Parkinsons\")\n"
      ],
      "metadata": {
        "id": "FQda_-3-xWqJ"
      },
      "execution_count": null,
      "outputs": []
    }
  ]
}